{
 "cells": [
  {
   "cell_type": "code",
   "execution_count": 1,
   "id": "9a84ff35",
   "metadata": {},
   "outputs": [],
   "source": [
    "import numpy as np\n",
    "import pandas as pd\n",
    "import matplotlib.pyplot as plt"
   ]
  },
  {
   "cell_type": "code",
   "execution_count": 2,
   "id": "3c13a41f",
   "metadata": {},
   "outputs": [
    {
     "name": "stderr",
     "output_type": "stream",
     "text": [
      "C:\\Users\\USER\\AppData\\Local\\Packages\\PythonSoftwareFoundation.Python.3.10_qbz5n2kfra8p0\\LocalCache\\local-packages\\Python310\\site-packages\\sklearn\\datasets\\_openml.py:1002: FutureWarning: The default value of `parser` will change from `'liac-arff'` to `'auto'` in 1.4. You can set `parser='auto'` to silence this warning. Therefore, an `ImportError` will be raised from 1.4 if the dataset is dense and pandas is not installed. Note that the pandas parser may return different data types. See the Notes Section in fetch_openml's API doc for details.\n",
      "  warn(\n"
     ]
    },
    {
     "data": {
      "text/plain": [
       "dict_keys(['data', 'target', 'frame', 'categories', 'feature_names', 'target_names', 'DESCR', 'details', 'url'])"
      ]
     },
     "execution_count": 2,
     "metadata": {},
     "output_type": "execute_result"
    }
   ],
   "source": [
    "from sklearn.datasets import fetch_openml\n",
    "mnist = fetch_openml('mnist_784', version=1)\n",
    "mnist.keys()"
   ]
  },
  {
   "cell_type": "code",
   "execution_count": 78,
   "id": "083f643a",
   "metadata": {
    "scrolled": true
   },
   "outputs": [
    {
     "data": {
      "text/plain": [
       "'5'"
      ]
     },
     "execution_count": 78,
     "metadata": {},
     "output_type": "execute_result"
    }
   ],
   "source": [
    "X,y = mnist['data'], mnist['target']\n",
    "X.shape # Images features total 784 i.e 28x28 pixel images each feature then represent the pixel intensity of each picture.\n",
    "y.shape #the corresponding name of the image i.e our target.\n",
    "X = X.to_numpy()\n",
    "y = y.to_numpy()\n",
    "y[0]"
   ]
  },
  {
   "cell_type": "code",
   "execution_count": 4,
   "id": "cb3c66fd",
   "metadata": {},
   "outputs": [
    {
     "name": "stdout",
     "output_type": "stream",
     "text": [
      "6\n"
     ]
    },
    {
     "data": {
      "image/png": "[encoded data removed]",
      "text/plain": [
       "<Figure size 640x480 with 1 Axes>"
      ]
     },
     "metadata": {},
     "output_type": "display_data"
    }
   ],
   "source": [
    "import matplotlib as mpl\n",
    "import matplotlib.pyplot as plt\n",
    "def image_plotter(n, dataframe):\n",
    "    print(y[n])\n",
    "    some_digit = dataframe[n]\n",
    "    some_digit_image = np.array(some_digit).reshape(28, 28)\n",
    "    plt.imshow(some_digit_image, cmap = mpl.cm.binary, interpolation=\"nearest\")\n",
    "    plt.axis(\"off\")\n",
    "    plt.show()\n",
    "image_plotter(5998, X)\n",
    "#As seen the label tells us that it is a five an d indeed we do see a five. "
   ]
  },
  {
   "cell_type": "code",
   "execution_count": 79,
   "id": "54b9fc6c",
   "metadata": {},
   "outputs": [],
   "source": [
    "#now the labels are strings and we would very much prefer integer values so...\n",
    "y = y.astype(np.uint8)"
   ]
  },
  {
   "cell_type": "code",
   "execution_count": 6,
   "id": "c4bf96d7",
   "metadata": {},
   "outputs": [],
   "source": [
    "# but wait we must plit this into trining and test set, but the mnist dataset has already split the sata for us, first 60,000 train set and last 10,000 test so..\n",
    "X_train, X_test, y_train, y_test = X[:60000], X[60000:], y[:60000], y[60000:]"
   ]
  },
  {
   "cell_type": "code",
   "execution_count": 7,
   "id": "7c84845a",
   "metadata": {},
   "outputs": [],
   "source": [
    "#now lets simplify this data a little only the digit 5 so we'll train a binary classifier i.e 5 or not 5\n",
    "y_train_5 = (y_train == 5) # a boolean matric representing true if label is 5 and false otherwise\n",
    "y_test_5 = (y_test == 5)\n"
   ]
  },
  {
   "cell_type": "code",
   "execution_count": 8,
   "id": "8a745b10",
   "metadata": {},
   "outputs": [
    {
     "data": {
      "text/html": [
       "<style>#sk-container-id-1 {color: black;}#sk-container-id-1 pre{padding: 0;}#sk-container-id-1 div.sk-toggleable {background-color: white;}#sk-container-id-1 label.sk-toggleable__label {cursor: pointer;display: block;width: 100%;margin-bottom: 0;padding: 0.3em;box-sizing: border-box;text-align: center;}#sk-container-id-1 label.sk-toggleable__label-arrow:before {content: \"▸\";float: left;margin-right: 0.25em;color: #696969;}#sk-container-id-1 label.sk-toggleable__label-arrow:hover:before {color: black;}#sk-container-id-1 div.sk-estimator:hover label.sk-toggleable__label-arrow:before {color: black;}#sk-container-id-1 div.sk-toggleable__content {max-height: 0;max-width: 0;overflow: hidden;text-align: left;background-color: #f0f8ff;}#sk-container-id-1 div.sk-toggleable__content pre {margin: 0.2em;color: black;border-radius: 0.25em;background-color: #f0f8ff;}#sk-container-id-1 input.sk-toggleable__control:checked~div.sk-toggleable__content {max-height: 200px;max-width: 100%;overflow: auto;}#sk-container-id-1 input.sk-toggleable__control:checked~label.sk-toggleable__label-arrow:before {content: \"▾\";}#sk-container-id-1 div.sk-estimator input.sk-toggleable__control:checked~label.sk-toggleable__label {background-color: #d4ebff;}#sk-container-id-1 div.sk-label input.sk-toggleable__control:checked~label.sk-toggleable__label {background-color: #d4ebff;}#sk-container-id-1 input.sk-hidden--visually {border: 0;clip: rect(1px 1px 1px 1px);clip: rect(1px, 1px, 1px, 1px);height: 1px;margin: -1px;overflow: hidden;padding: 0;position: absolute;width: 1px;}#sk-container-id-1 div.sk-estimator {font-family: monospace;background-color: #f0f8ff;border: 1px dotted black;border-radius: 0.25em;box-sizing: border-box;margin-bottom: 0.5em;}#sk-container-id-1 div.sk-estimator:hover {background-color: #d4ebff;}#sk-container-id-1 div.sk-parallel-item::after {content: \"\";width: 100%;border-bottom: 1px solid gray;flex-grow: 1;}#sk-container-id-1 div.sk-label:hover label.sk-toggleable__label {background-color: #d4ebff;}#sk-container-id-1 div.sk-serial::before {content: \"\";position: absolute;border-left: 1px solid gray;box-sizing: border-box;top: 0;bottom: 0;left: 50%;z-index: 0;}#sk-container-id-1 div.sk-serial {display: flex;flex-direction: column;align-items: center;background-color: white;padding-right: 0.2em;padding-left: 0.2em;position: relative;}#sk-container-id-1 div.sk-item {position: relative;z-index: 1;}#sk-container-id-1 div.sk-parallel {display: flex;align-items: stretch;justify-content: center;background-color: white;position: relative;}#sk-container-id-1 div.sk-item::before, #sk-container-id-1 div.sk-parallel-item::before {content: \"\";position: absolute;border-left: 1px solid gray;box-sizing: border-box;top: 0;bottom: 0;left: 50%;z-index: -1;}#sk-container-id-1 div.sk-parallel-item {display: flex;flex-direction: column;z-index: 1;position: relative;background-color: white;}#sk-container-id-1 div.sk-parallel-item:first-child::after {align-self: flex-end;width: 50%;}#sk-container-id-1 div.sk-parallel-item:last-child::after {align-self: flex-start;width: 50%;}#sk-container-id-1 div.sk-parallel-item:only-child::after {width: 0;}#sk-container-id-1 div.sk-dashed-wrapped {border: 1px dashed gray;margin: 0 0.4em 0.5em 0.4em;box-sizing: border-box;padding-bottom: 0.4em;background-color: white;}#sk-container-id-1 div.sk-label label {font-family: monospace;font-weight: bold;display: inline-block;line-height: 1.2em;}#sk-container-id-1 div.sk-label-container {text-align: center;}#sk-container-id-1 div.sk-container {/* jupyter's `normalize.less` sets `[hidden] { display: none; }` but bootstrap.min.css set `[hidden] { display: none !important; }` so we also need the `!important` here to be able to override the default hidden behavior on the sphinx rendered scikit-learn.org. See: https://github.com/scikit-learn/scikit-learn/issues/21755 */display: inline-block !important;position: relative;}#sk-container-id-1 div.sk-text-repr-fallback {display: none;}</style><div id=\"sk-container-id-1\" class=\"sk-top-container\"><div class=\"sk-text-repr-fallback\"><pre>SGDClassifier(random_state=42)</pre><b>In a Jupyter environment, please rerun this cell to show the HTML representation or trust the notebook. <br />On GitHub, the HTML representation is unable to render, please try loading this page with nbviewer.org.</b></div><div class=\"sk-container\" hidden><div class=\"sk-item\"><div class=\"sk-estimator sk-toggleable\"><input class=\"sk-toggleable__control sk-hidden--visually\" id=\"sk-estimator-id-1\" type=\"checkbox\" checked><label for=\"sk-estimator-id-1\" class=\"sk-toggleable__label sk-toggleable__label-arrow\">SGDClassifier</label><div class=\"sk-toggleable__content\"><pre>SGDClassifier(random_state=42)</pre></div></div></div></div></div>"
      ],
      "text/plain": [
       "SGDClassifier(random_state=42)"
      ]
     },
     "execution_count": 8,
     "metadata": {},
     "output_type": "execute_result"
    }
   ],
   "source": [
    "#Now let use an SGDClassifier \n",
    "from sklearn.linear_model import SGDClassifier\n",
    "sgd_clf = SGDClassifier(random_state=42)\n",
    "sgd_clf.fit(X_train, y_train_5)"
   ]
  },
  {
   "cell_type": "code",
   "execution_count": 9,
   "id": "682467bc",
   "metadata": {},
   "outputs": [
    {
     "data": {
      "text/plain": [
       "array([False])"
      ]
     },
     "execution_count": 9,
     "metadata": {},
     "output_type": "execute_result"
    }
   ],
   "source": [
    "some_data = X_train[2]\n",
    "sgd_clf.predict([some_data])"
   ]
  },
  {
   "cell_type": "code",
   "execution_count": 10,
   "id": "8581f110",
   "metadata": {},
   "outputs": [
    {
     "name": "stdout",
     "output_type": "stream",
     "text": [
      "0.9669\n",
      "0.91625\n",
      "0.96785\n"
     ]
    }
   ],
   "source": [
    "#now evaluating the model note: **Evaluating a classifier is often significantly trickier than evaluating a regressor**\n",
    "from sklearn.model_selection import StratifiedKFold\n",
    "from sklearn.base import clone\n",
    "#now dote that X_train refers to the features data and y_train referes to the labels data\n",
    "skfolds = StratifiedKFold(n_splits=3, random_state=42, shuffle = True)#creates a skfold random splitter basically\n",
    "for train_index, test_index in skfolds.split(X_train, y_train_5):# uses that to do the slitting note that there are going to be 3 different splits(folds)\n",
    "    clone_clf = clone(sgd_clf) # clone the model\n",
    "    X_train_folds = X_train[train_index]#obtain the table of features for each fold for the training of the model\n",
    "    y_train_folds = y_train_5[train_index]#obtain the table of labels for each fold for the supervised training of the model\n",
    "    X_test_fold = X_train[test_index]##obtain the table of features for each fold for the testing of the model\n",
    "    y_test_fold = y_train_5[test_index]#obtain the table of labels for each fold for the testing of the model\n",
    "    clone_clf.fit(X_train_folds, y_train_folds)#Train the model with the train fold.\n",
    "    y_pred = clone_clf.predict(X_test_fold)#run the predictions with the test folds\n",
    "    n_correct = sum(y_pred == y_test_fold)# Evaluate the predictions vs the labels\n",
    "    print(n_correct / len(y_pred))#return the ratio of correctness"
   ]
  },
  {
   "cell_type": "code",
   "execution_count": 11,
   "id": "dd500571",
   "metadata": {},
   "outputs": [
    {
     "data": {
      "text/plain": [
       "array([0.95035, 0.96035, 0.9604 ])"
      ]
     },
     "execution_count": 11,
     "metadata": {},
     "output_type": "execute_result"
    }
   ],
   "source": [
    "# or...... just use this:\n",
    "from sklearn.model_selection import cross_val_score\n",
    "cross_val_score(sgd_clf, X_train, y_train_5, cv=3, scoring=\"accuracy\")\n"
   ]
  },
  {
   "cell_type": "code",
   "execution_count": 12,
   "id": "cf03ea6f",
   "metadata": {},
   "outputs": [],
   "source": [
    "#Wow! Above 93% accuracy (ratio of correct predictions) on all cross-validation folds? \n",
    "#This looks amazing, doesn’t it? Well, before you get too excited, let’s look at a very\n",
    "#dumb classifier that just classifies every single image in the “not-5” class:\n",
    "from sklearn.base import BaseEstimator\n",
    "class Never5Classifier(BaseEstimator):\n",
    "    def fit(self, X, y=None):\n",
    "        pass\n",
    "    def predict(self, X):\n",
    "        return np.zeros((len(X), 1), dtype=bool)\n",
    "#ok ok I grab so this model guesses that all the numbers are not five ; np.zeros((len(X), 1), dtype=bool) "
   ]
  },
  {
   "cell_type": "code",
   "execution_count": 13,
   "id": "5f7aaafb",
   "metadata": {},
   "outputs": [
    {
     "data": {
      "text/plain": [
       "array([0.91125, 0.90855, 0.90915])"
      ]
     },
     "execution_count": 13,
     "metadata": {},
     "output_type": "execute_result"
    }
   ],
   "source": [
    "#now lets test this dumb model performance:\n",
    "never_5_clf = Never5Classifier()\n",
    "cross_val_score(never_5_clf, X_train, y_train_5, cv=3, scoring=\"accuracy\")\n",
    "#Now this model is still about 90&% accurate despite the fact that it learned nothing from thr data and assumes no number in the data is 5\n",
    "#this is because only about 10% of the data is actually 5 so if you guess that all are not 5 you'll be correct 90% of time.\n",
    "#This demonstrates why accuracy is generally not the preferred performance measure\n",
    "#for classifiers, especially when you are dealing with skewed datasets (i.e., when some classes are much more frequent than others)."
   ]
  },
  {
   "cell_type": "code",
   "execution_count": 14,
   "id": "73a851f0",
   "metadata": {},
   "outputs": [],
   "source": [
    "#A much better way to evaluate the performance of a classifier is to look at the confusion matrix. this plots the predicted vs the actual in a tabular manner\n",
    "from sklearn.model_selection import cross_val_predict\n",
    "y_train_pred = cross_val_predict(sgd_clf, X_train, y_train_5, cv=3)"
   ]
  },
  {
   "cell_type": "code",
   "execution_count": 15,
   "id": "271e1423",
   "metadata": {},
   "outputs": [
    {
     "data": {
      "text/plain": [
       "array([[53892,   687],\n",
       "       [ 1891,  3530]], dtype=int64)"
      ]
     },
     "execution_count": 15,
     "metadata": {},
     "output_type": "execute_result"
    }
   ],
   "source": [
    "from sklearn.metrics import confusion_matrix\n",
    "confusion_matrix(y_train_5, y_train_pred) # plot a table of the actual labels vs the predicted ones.\n",
    "#[true negatives(not 5), false positives (not five but predicted as 5)],\n",
    "#[false negatives(5 but predicted as not 5), true positives(true 5)]"
   ]
  },
  {
   "cell_type": "code",
   "execution_count": 16,
   "id": "d69039c6",
   "metadata": {},
   "outputs": [
    {
     "name": "stdout",
     "output_type": "stream",
     "text": [
      "0.8370879772350012 0.6511713705958311\n"
     ]
    }
   ],
   "source": [
    "#ok ok now we have a matrix we want a more precise value that summarizes what the table tells us.. well there are 2 ways to do that\n",
    "#PRECISION and RECALL\n",
    "#precision = TP/(TP + FP)\n",
    "#recall = TP/(TP + FN)\n",
    "from sklearn.metrics import precision_score, recall_score\n",
    "precision = precision_score(y_train_5, y_train_pred)\n",
    "recall = recall_score(y_train_5, y_train_pred) \n",
    "print(precision, recall)\n",
    "#now when this model says an image is 5, it is only correct precision(83.7%) amount f times and it only detects recall(65.1%)% of the 5s"
   ]
  },
  {
   "cell_type": "code",
   "execution_count": 17,
   "id": "b0aa0f72",
   "metadata": {},
   "outputs": [
    {
     "data": {
      "text/plain": [
       "array([ True])"
      ]
     },
     "execution_count": 17,
     "metadata": {},
     "output_type": "execute_result"
    }
   ],
   "source": [
    "# now there's a trade off i.e the higher the precision , the lower the recall and vice versa\n",
    "#lets see what i'm saying\n",
    "some_digit = X_train[0]\n",
    "y_scores = sgd_clf.decision_function([some_digit])\n",
    "threshold = 0\n",
    "y_some_digit_pred = (y_scores > threshold)\n",
    "y_some_digit_pred\n",
    "#explanation:\n",
    "#    y_some_digit_pred = (y_scores > threshold): This line applies the threshold to the decision score (y_scores)\n",
    "#    for the some_digit sample. If the decision score is greater than the threshold (2100 in this case), \n",
    "#    the prediction for some_digit will be True, otherwise, it will be False.\n",
    "#    That is your classifier detects that the image is a 5 when the theshold is  0 but misses it when it is 2100. now then , how do you set a threshold "
   ]
  },
  {
   "cell_type": "code",
   "execution_count": 18,
   "id": "28b49605",
   "metadata": {},
   "outputs": [],
   "source": [
    "#To set the treshold, we'll be using the cross val predict function again but this time we'll be specifying that we want to return decision scores instead of predictions:\n",
    "y_scores = cross_val_predict(sgd_clf, X_train, y_train_5, cv=3, method=\"decision_function\")"
   ]
  },
  {
   "cell_type": "code",
   "execution_count": 19,
   "id": "7cc81d31",
   "metadata": {},
   "outputs": [
    {
     "data": {
      "text/plain": [
       "array([  1200.93051237, -26883.79202424, -33072.03475406, ...,\n",
       "        13272.12718981,  -7258.47203373, -16877.50840447])"
      ]
     },
     "execution_count": 19,
     "metadata": {},
     "output_type": "execute_result"
    }
   ],
   "source": [
    "y_scores"
   ]
  },
  {
   "cell_type": "code",
   "execution_count": 20,
   "id": "25c7e408",
   "metadata": {},
   "outputs": [],
   "source": [
    "#Now with these scores you can compute precision and recall for all possible thresholds using the precision_recall_curve() function:\n",
    "from sklearn.metrics import precision_recall_curve\n",
    "precisions, recalls, thresholds = precision_recall_curve(y_train_5, y_scores)"
   ]
  },
  {
   "cell_type": "code",
   "execution_count": 21,
   "id": "65a29292",
   "metadata": {
    "scrolled": false
   },
   "outputs": [
    {
     "data": {
      "image/png": "[encoded data removed]",
      "text/plain": [
       "<Figure size 1000x600 with 1 Axes>"
      ]
     },
     "metadata": {},
     "output_type": "display_data"
    }
   ],
   "source": [
    "#Finally, you can plot precision and recall as functions of the threshold value using Matplotlib\n",
    "def plot_precision_recall_vs_threshold(precisions, recalls, thresholds):\n",
    "    plt.plot(thresholds, precisions[:-1], \"b--\", label=\"Precision\")\n",
    "    plt.plot(thresholds, recalls[:-1], \"g-\", label=\"Recall\")\n",
    "\n",
    "    # Highlight the threshold with a red vertical line\n",
    "    best_threshold_idx = np.argmax(precisions[:-1] + recalls[:-1])\n",
    "    best_threshold = thresholds[best_threshold_idx]\n",
    "    plt.axvline(x=best_threshold, color='r', linestyle='--', label='Best Threshold')\n",
    "\n",
    "    # Add legend, axis labels, and grid\n",
    "    plt.legend(loc=\"lower left\")\n",
    "    plt.xlabel(\"Threshold\")\n",
    "    plt.ylabel(\"Score\")\n",
    "    plt.grid(True)\n",
    "\n",
    "# Assuming you have precisions, recalls, and thresholds already defined or calculated\n",
    "# precisions, recalls, thresholds = your_function_to_calculate_precision_recall_curve()\n",
    "plt.figure(figsize=(10, 6))\n",
    "plot_precision_recall_vs_threshold(precisions, recalls, thresholds)\n",
    "plt.show()\n",
    "#From this plot, you notice that as the threshold increases, the precision drops, so you might want to select the best threshold based\n",
    "#on the project at hand, if yo want a hight precision, but a low recall you can do that by following the next cell, and vice versa."
   ]
  },
  {
   "cell_type": "code",
   "execution_count": 22,
   "id": "3e7bc3a8",
   "metadata": {},
   "outputs": [
    {
     "name": "stdout",
     "output_type": "stream",
     "text": [
      "0.9000345901072293 0.4799852425751706\n"
     ]
    }
   ],
   "source": [
    "threshold_90_precision = thresholds[np.argmax(precisions >= 0.90)]#obtain the thresold whose precision is graeter than 90%\n",
    "y_train_pred_90 = (y_scores >= threshold_90_precision)#Obtain the labels for a 90% accuracy\n",
    "precision_90 = precision_score(y_train_5, y_train_pred_90)\n",
    "recall_90 = recall_score(y_train_5, y_train_pred_90)\n",
    "print(precision_90, recall_90)\n",
    "#As seen, a 90% precision leaves us with a 48% recall"
   ]
  },
  {
   "cell_type": "code",
   "execution_count": 23,
   "id": "092dd994",
   "metadata": {},
   "outputs": [],
   "source": [
    "#But then a recall that low? mening out of 100 5s our model will only detect about 48 of them though those 48 are 90% guaranteed to be 5s\n",
    "#but what is to become of the rest 52 \"5s\"  well that s why; If someone says “let’s reach 99% precision,” you should ask, “at what recall?”\n",
    "#Another way to decide our treshold is to use the ROC curve which plots the true positive(recall, sensitivity) vs the false positive(specificity)\n",
    "from sklearn.metrics import roc_curve\n",
    "fpr, tpr, thresholds = roc_curve(y_train_5, y_scores)"
   ]
  },
  {
   "cell_type": "code",
   "execution_count": 24,
   "id": "58f14e45",
   "metadata": {},
   "outputs": [
    {
     "data": {
      "image/png": "[encoded data removed]",
      "text/plain": [
       "<Figure size 640x480 with 1 Axes>"
      ]
     },
     "metadata": {},
     "output_type": "display_data"
    }
   ],
   "source": [
    "def plot_roc_curve(fpr, tpr, label=None):\n",
    "    plt.plot(fpr, tpr, linewidth=2, label=label)\n",
    "    plt.plot([0, 1], [0, 1], 'k--') # dashed diagonal\n",
    "    plt.xlabel(\"False positive rate (Specificity)\")\n",
    "    plt.ylabel(\"True Positive rate (Sensitivity)\")\n",
    "    plt.grid(True)\n",
    "\n",
    "plot_roc_curve(fpr, tpr)\n",
    "plt.show()\n"
   ]
  },
  {
   "cell_type": "code",
   "execution_count": 25,
   "id": "385ea6e5",
   "metadata": {},
   "outputs": [
    {
     "data": {
      "text/plain": [
       "0.9604938554008616"
      ]
     },
     "execution_count": 25,
     "metadata": {},
     "output_type": "execute_result"
    }
   ],
   "source": [
    "#So what does thsi tell us?\n",
    "#One way to compare classifiers is to measure the area under the curve (AUC). A perfect classifier will have a ROC AUC equal to 1, \n",
    "#whereas a purely random classifier will have a ROC AUC equal to 0.5.\n",
    "#So here's how to obtain the ROC AUC of our curve:\n",
    "from sklearn.metrics import roc_auc_score\n",
    "roc_auc_score(y_train_5, y_scores)\n",
    "#Don't be too glad, this is only very high because the there are few 5s compared to the non-5s so using a PR curve in this case tells us more.\n"
   ]
  },
  {
   "cell_type": "code",
   "execution_count": 26,
   "id": "0d1aecd5",
   "metadata": {},
   "outputs": [],
   "source": [
    "#Now lets train a random forest classifier and compare our outcomes\n",
    "from sklearn.ensemble import RandomForestClassifier\n",
    "forest_clf = RandomForestClassifier(random_state=42)\n",
    "y_probas_forest = cross_val_predict(forest_clf, X_train, y_train_5, cv=3,method=\"predict_proba\")\n",
    "#Also note that this classifier returns the probability that each instance belongs to the given class (in the case of this example how likely is this image a 5?)"
   ]
  },
  {
   "cell_type": "code",
   "execution_count": 27,
   "id": "01ec72a1",
   "metadata": {},
   "outputs": [],
   "source": [
    "#Now to plot the ROC we need scores not probabilities so...\n",
    "y_scores_forest = y_probas_forest[:, 1] # score = proba of positive class(this array is divided into probability of false and probability of tru so... pick true only)\n",
    "fpr_forest, tpr_forest, thresholds_forest = roc_curve(y_train_5,y_scores_forest)"
   ]
  },
  {
   "cell_type": "code",
   "execution_count": 28,
   "id": "b9a0f217",
   "metadata": {},
   "outputs": [
    {
     "data": {
      "image/png": "[encoded data removed]",
      "text/plain": [
       "<Figure size 640x480 with 1 Axes>"
      ]
     },
     "metadata": {},
     "output_type": "display_data"
    }
   ],
   "source": [
    "plt.plot(fpr, tpr, \"b:\", label=\"SGD\")\n",
    "plot_roc_curve(fpr_forest, tpr_forest,\"Random Forest\")\n",
    "plt.legend(loc=\"lower right\")\n",
    "plt.show()\n"
   ]
  },
  {
   "cell_type": "code",
   "execution_count": 29,
   "id": "8a4d149e",
   "metadata": {},
   "outputs": [
    {
     "data": {
      "text/plain": [
       "0.9983436731328145"
      ]
     },
     "execution_count": 29,
     "metadata": {},
     "output_type": "execute_result"
    }
   ],
   "source": [
    "#As you can see in the above plot, the RandomForestClassifier’s ROC curve looks much\n",
    "#better than the SGDClassifier’s: it comes much closer to the top-left corner. As a\n",
    "#result, its ROC AUC score is also significantly better:\n",
    "roc_auc_score(y_train_5, y_scores_forest)"
   ]
  },
  {
   "cell_type": "code",
   "execution_count": 30,
   "id": "26ed05dc",
   "metadata": {},
   "outputs": [],
   "source": [
    "y_train_forest = cross_val_predict(forest_clf, X_train, y_train_5, cv=3,method=\"predict\")"
   ]
  },
  {
   "cell_type": "code",
   "execution_count": 31,
   "id": "213b05b0",
   "metadata": {},
   "outputs": [
    {
     "data": {
      "text/plain": [
       "0.8662608374838591"
      ]
     },
     "execution_count": 31,
     "metadata": {},
     "output_type": "execute_result"
    }
   ],
   "source": [
    "#Wow that's great! now lets measure our accuracy and precision score:\n",
    "precision_score(y_train_5, y_train_forest)\n",
    "recall_score(y_train_5, y_train_forest)"
   ]
  },
  {
   "cell_type": "code",
   "execution_count": 32,
   "id": "75d6ccc0",
   "metadata": {},
   "outputs": [],
   "source": [
    "#Now we are done with binary classifiers, so now we want to move to multinomial classifiers, as I have predicted, one cal train various models\n",
    "#on every available class and then run the feature of the picture to be predicted accross all the classes an whichever class has the highest \n",
    "#prediction score, teakes the win as the true class this is call the OvA (one v All) approach.\n",
    "#There's also the approach of training one model againt another i.e (1 againt 0), (0 against 2), (1 against 2) and so on... this is know as the OvO approach\n",
    "#mainly used by the support vector machine classification (SVM classifiers) these guys dont support multinomial classification normally."
   ]
  },
  {
   "cell_type": "code",
   "execution_count": 33,
   "id": "b4818521",
   "metadata": {},
   "outputs": [
    {
     "data": {
      "text/html": [
       "<style>#sk-container-id-2 {color: black;}#sk-container-id-2 pre{padding: 0;}#sk-container-id-2 div.sk-toggleable {background-color: white;}#sk-container-id-2 label.sk-toggleable__label {cursor: pointer;display: block;width: 100%;margin-bottom: 0;padding: 0.3em;box-sizing: border-box;text-align: center;}#sk-container-id-2 label.sk-toggleable__label-arrow:before {content: \"▸\";float: left;margin-right: 0.25em;color: #696969;}#sk-container-id-2 label.sk-toggleable__label-arrow:hover:before {color: black;}#sk-container-id-2 div.sk-estimator:hover label.sk-toggleable__label-arrow:before {color: black;}#sk-container-id-2 div.sk-toggleable__content {max-height: 0;max-width: 0;overflow: hidden;text-align: left;background-color: #f0f8ff;}#sk-container-id-2 div.sk-toggleable__content pre {margin: 0.2em;color: black;border-radius: 0.25em;background-color: #f0f8ff;}#sk-container-id-2 input.sk-toggleable__control:checked~div.sk-toggleable__content {max-height: 200px;max-width: 100%;overflow: auto;}#sk-container-id-2 input.sk-toggleable__control:checked~label.sk-toggleable__label-arrow:before {content: \"▾\";}#sk-container-id-2 div.sk-estimator input.sk-toggleable__control:checked~label.sk-toggleable__label {background-color: #d4ebff;}#sk-container-id-2 div.sk-label input.sk-toggleable__control:checked~label.sk-toggleable__label {background-color: #d4ebff;}#sk-container-id-2 input.sk-hidden--visually {border: 0;clip: rect(1px 1px 1px 1px);clip: rect(1px, 1px, 1px, 1px);height: 1px;margin: -1px;overflow: hidden;padding: 0;position: absolute;width: 1px;}#sk-container-id-2 div.sk-estimator {font-family: monospace;background-color: #f0f8ff;border: 1px dotted black;border-radius: 0.25em;box-sizing: border-box;margin-bottom: 0.5em;}#sk-container-id-2 div.sk-estimator:hover {background-color: #d4ebff;}#sk-container-id-2 div.sk-parallel-item::after {content: \"\";width: 100%;border-bottom: 1px solid gray;flex-grow: 1;}#sk-container-id-2 div.sk-label:hover label.sk-toggleable__label {background-color: #d4ebff;}#sk-container-id-2 div.sk-serial::before {content: \"\";position: absolute;border-left: 1px solid gray;box-sizing: border-box;top: 0;bottom: 0;left: 50%;z-index: 0;}#sk-container-id-2 div.sk-serial {display: flex;flex-direction: column;align-items: center;background-color: white;padding-right: 0.2em;padding-left: 0.2em;position: relative;}#sk-container-id-2 div.sk-item {position: relative;z-index: 1;}#sk-container-id-2 div.sk-parallel {display: flex;align-items: stretch;justify-content: center;background-color: white;position: relative;}#sk-container-id-2 div.sk-item::before, #sk-container-id-2 div.sk-parallel-item::before {content: \"\";position: absolute;border-left: 1px solid gray;box-sizing: border-box;top: 0;bottom: 0;left: 50%;z-index: -1;}#sk-container-id-2 div.sk-parallel-item {display: flex;flex-direction: column;z-index: 1;position: relative;background-color: white;}#sk-container-id-2 div.sk-parallel-item:first-child::after {align-self: flex-end;width: 50%;}#sk-container-id-2 div.sk-parallel-item:last-child::after {align-self: flex-start;width: 50%;}#sk-container-id-2 div.sk-parallel-item:only-child::after {width: 0;}#sk-container-id-2 div.sk-dashed-wrapped {border: 1px dashed gray;margin: 0 0.4em 0.5em 0.4em;box-sizing: border-box;padding-bottom: 0.4em;background-color: white;}#sk-container-id-2 div.sk-label label {font-family: monospace;font-weight: bold;display: inline-block;line-height: 1.2em;}#sk-container-id-2 div.sk-label-container {text-align: center;}#sk-container-id-2 div.sk-container {/* jupyter's `normalize.less` sets `[hidden] { display: none; }` but bootstrap.min.css set `[hidden] { display: none !important; }` so we also need the `!important` here to be able to override the default hidden behavior on the sphinx rendered scikit-learn.org. See: https://github.com/scikit-learn/scikit-learn/issues/21755 */display: inline-block !important;position: relative;}#sk-container-id-2 div.sk-text-repr-fallback {display: none;}</style><div id=\"sk-container-id-2\" class=\"sk-top-container\"><div class=\"sk-text-repr-fallback\"><pre>SGDClassifier(random_state=42)</pre><b>In a Jupyter environment, please rerun this cell to show the HTML representation or trust the notebook. <br />On GitHub, the HTML representation is unable to render, please try loading this page with nbviewer.org.</b></div><div class=\"sk-container\" hidden><div class=\"sk-item\"><div class=\"sk-estimator sk-toggleable\"><input class=\"sk-toggleable__control sk-hidden--visually\" id=\"sk-estimator-id-2\" type=\"checkbox\" checked><label for=\"sk-estimator-id-2\" class=\"sk-toggleable__label sk-toggleable__label-arrow\">SGDClassifier</label><div class=\"sk-toggleable__content\"><pre>SGDClassifier(random_state=42)</pre></div></div></div></div></div>"
      ],
      "text/plain": [
       "SGDClassifier(random_state=42)"
      ]
     },
     "execution_count": 33,
     "metadata": {},
     "output_type": "execute_result"
    }
   ],
   "source": [
    "sgd_clf.fit(X_train, y_train) # y_train, not y_train_5 we are now training a multinomial model(sounds good 😂)\n",
    "#Just like that? well apparently '🤣🤣🤣🤣' hehe"
   ]
  },
  {
   "cell_type": "code",
   "execution_count": 34,
   "id": "0e86b934",
   "metadata": {
    "scrolled": false
   },
   "outputs": [
    {
     "name": "stdout",
     "output_type": "stream",
     "text": [
      "[3]\n",
      "3\n"
     ]
    },
    {
     "data": {
      "image/png": "[encoded data removed]",
      "text/plain": [
       "<Figure size 640x480 with 1 Axes>"
      ]
     },
     "metadata": {},
     "output_type": "display_data"
    }
   ],
   "source": [
    "n = 890\n",
    "some_data = X_train[n]\n",
    "pred = sgd_clf.predict([some_data])\n",
    "print(pred)\n",
    "image_plotter(n, X_train)\n",
    "#Don't mind me I'm just admiring the work done so far."
   ]
  },
  {
   "cell_type": "code",
   "execution_count": 35,
   "id": "89b32f43",
   "metadata": {},
   "outputs": [
    {
     "data": {
      "text/html": [
       "<style>#sk-container-id-3 {color: black;}#sk-container-id-3 pre{padding: 0;}#sk-container-id-3 div.sk-toggleable {background-color: white;}#sk-container-id-3 label.sk-toggleable__label {cursor: pointer;display: block;width: 100%;margin-bottom: 0;padding: 0.3em;box-sizing: border-box;text-align: center;}#sk-container-id-3 label.sk-toggleable__label-arrow:before {content: \"▸\";float: left;margin-right: 0.25em;color: #696969;}#sk-container-id-3 label.sk-toggleable__label-arrow:hover:before {color: black;}#sk-container-id-3 div.sk-estimator:hover label.sk-toggleable__label-arrow:before {color: black;}#sk-container-id-3 div.sk-toggleable__content {max-height: 0;max-width: 0;overflow: hidden;text-align: left;background-color: #f0f8ff;}#sk-container-id-3 div.sk-toggleable__content pre {margin: 0.2em;color: black;border-radius: 0.25em;background-color: #f0f8ff;}#sk-container-id-3 input.sk-toggleable__control:checked~div.sk-toggleable__content {max-height: 200px;max-width: 100%;overflow: auto;}#sk-container-id-3 input.sk-toggleable__control:checked~label.sk-toggleable__label-arrow:before {content: \"▾\";}#sk-container-id-3 div.sk-estimator input.sk-toggleable__control:checked~label.sk-toggleable__label {background-color: #d4ebff;}#sk-container-id-3 div.sk-label input.sk-toggleable__control:checked~label.sk-toggleable__label {background-color: #d4ebff;}#sk-container-id-3 input.sk-hidden--visually {border: 0;clip: rect(1px 1px 1px 1px);clip: rect(1px, 1px, 1px, 1px);height: 1px;margin: -1px;overflow: hidden;padding: 0;position: absolute;width: 1px;}#sk-container-id-3 div.sk-estimator {font-family: monospace;background-color: #f0f8ff;border: 1px dotted black;border-radius: 0.25em;box-sizing: border-box;margin-bottom: 0.5em;}#sk-container-id-3 div.sk-estimator:hover {background-color: #d4ebff;}#sk-container-id-3 div.sk-parallel-item::after {content: \"\";width: 100%;border-bottom: 1px solid gray;flex-grow: 1;}#sk-container-id-3 div.sk-label:hover label.sk-toggleable__label {background-color: #d4ebff;}#sk-container-id-3 div.sk-serial::before {content: \"\";position: absolute;border-left: 1px solid gray;box-sizing: border-box;top: 0;bottom: 0;left: 50%;z-index: 0;}#sk-container-id-3 div.sk-serial {display: flex;flex-direction: column;align-items: center;background-color: white;padding-right: 0.2em;padding-left: 0.2em;position: relative;}#sk-container-id-3 div.sk-item {position: relative;z-index: 1;}#sk-container-id-3 div.sk-parallel {display: flex;align-items: stretch;justify-content: center;background-color: white;position: relative;}#sk-container-id-3 div.sk-item::before, #sk-container-id-3 div.sk-parallel-item::before {content: \"\";position: absolute;border-left: 1px solid gray;box-sizing: border-box;top: 0;bottom: 0;left: 50%;z-index: -1;}#sk-container-id-3 div.sk-parallel-item {display: flex;flex-direction: column;z-index: 1;position: relative;background-color: white;}#sk-container-id-3 div.sk-parallel-item:first-child::after {align-self: flex-end;width: 50%;}#sk-container-id-3 div.sk-parallel-item:last-child::after {align-self: flex-start;width: 50%;}#sk-container-id-3 div.sk-parallel-item:only-child::after {width: 0;}#sk-container-id-3 div.sk-dashed-wrapped {border: 1px dashed gray;margin: 0 0.4em 0.5em 0.4em;box-sizing: border-box;padding-bottom: 0.4em;background-color: white;}#sk-container-id-3 div.sk-label label {font-family: monospace;font-weight: bold;display: inline-block;line-height: 1.2em;}#sk-container-id-3 div.sk-label-container {text-align: center;}#sk-container-id-3 div.sk-container {/* jupyter's `normalize.less` sets `[hidden] { display: none; }` but bootstrap.min.css set `[hidden] { display: none !important; }` so we also need the `!important` here to be able to override the default hidden behavior on the sphinx rendered scikit-learn.org. See: https://github.com/scikit-learn/scikit-learn/issues/21755 */display: inline-block !important;position: relative;}#sk-container-id-3 div.sk-text-repr-fallback {display: none;}</style><div id=\"sk-container-id-3\" class=\"sk-top-container\"><div class=\"sk-text-repr-fallback\"><pre>OneVsOneClassifier(estimator=SGDClassifier(random_state=42))</pre><b>In a Jupyter environment, please rerun this cell to show the HTML representation or trust the notebook. <br />On GitHub, the HTML representation is unable to render, please try loading this page with nbviewer.org.</b></div><div class=\"sk-container\" hidden><div class=\"sk-item sk-dashed-wrapped\"><div class=\"sk-label-container\"><div class=\"sk-label sk-toggleable\"><input class=\"sk-toggleable__control sk-hidden--visually\" id=\"sk-estimator-id-3\" type=\"checkbox\" ><label for=\"sk-estimator-id-3\" class=\"sk-toggleable__label sk-toggleable__label-arrow\">OneVsOneClassifier</label><div class=\"sk-toggleable__content\"><pre>OneVsOneClassifier(estimator=SGDClassifier(random_state=42))</pre></div></div></div><div class=\"sk-parallel\"><div class=\"sk-parallel-item\"><div class=\"sk-item\"><div class=\"sk-label-container\"><div class=\"sk-label sk-toggleable\"><input class=\"sk-toggleable__control sk-hidden--visually\" id=\"sk-estimator-id-4\" type=\"checkbox\" ><label for=\"sk-estimator-id-4\" class=\"sk-toggleable__label sk-toggleable__label-arrow\">estimator: SGDClassifier</label><div class=\"sk-toggleable__content\"><pre>SGDClassifier(random_state=42)</pre></div></div></div><div class=\"sk-serial\"><div class=\"sk-item\"><div class=\"sk-estimator sk-toggleable\"><input class=\"sk-toggleable__control sk-hidden--visually\" id=\"sk-estimator-id-5\" type=\"checkbox\" ><label for=\"sk-estimator-id-5\" class=\"sk-toggleable__label sk-toggleable__label-arrow\">SGDClassifier</label><div class=\"sk-toggleable__content\"><pre>SGDClassifier(random_state=42)</pre></div></div></div></div></div></div></div></div></div></div>"
      ],
      "text/plain": [
       "OneVsOneClassifier(estimator=SGDClassifier(random_state=42))"
      ]
     },
     "execution_count": 35,
     "metadata": {},
     "output_type": "execute_result"
    }
   ],
   "source": [
    "#we can actually force sk learn to use ovo or ova method on the SDGclassifier (and other supported classifiers).\n",
    "from sklearn.multiclass import OneVsOneClassifier\n",
    "ovo_clf = OneVsOneClassifier(SGDClassifier(random_state=42))\n",
    "ovo_clf.fit(X_train, y_train)\n"
   ]
  },
  {
   "cell_type": "code",
   "execution_count": 36,
   "id": "94855cbb",
   "metadata": {},
   "outputs": [
    {
     "data": {
      "text/plain": [
       "45"
      ]
     },
     "execution_count": 36,
     "metadata": {},
     "output_type": "execute_result"
    }
   ],
   "source": [
    "len(ovo_clf.estimators_)#45 whooping extimators trained... lol"
   ]
  },
  {
   "cell_type": "code",
   "execution_count": 37,
   "id": "16ba0b36",
   "metadata": {},
   "outputs": [
    {
     "name": "stdout",
     "output_type": "stream",
     "text": [
      "[3]\n",
      "3\n"
     ]
    },
    {
     "data": {
      "image/png": "[encoded data removed]",
      "text/plain": [
       "<Figure size 640x480 with 1 Axes>"
      ]
     },
     "metadata": {},
     "output_type": "display_data"
    }
   ],
   "source": [
    "n = 890\n",
    "some_data = X_train[n]\n",
    "pred = ovo_clf.predict([some_data])\n",
    "print(pred)\n",
    "image_plotter(n, X_train)"
   ]
  },
  {
   "cell_type": "code",
   "execution_count": 38,
   "id": "5f8eb557",
   "metadata": {},
   "outputs": [
    {
     "data": {
      "text/plain": [
       "array([5], dtype=uint8)"
      ]
     },
     "execution_count": 38,
     "metadata": {},
     "output_type": "execute_result"
    }
   ],
   "source": [
    "#Alright alrght we are done with SGD both OvA and OvO method of classification. Now lets usre random forest classifier:\n",
    "forest_clf.fit(X_train, y_train)\n",
    "forest_clf.predict([some_digit])\n",
    "#well this lucky bastard can aready handle multinomial classifications so theres no need for OvO or OvA hehe.... cheeky."
   ]
  },
  {
   "cell_type": "code",
   "execution_count": 39,
   "id": "c8603924",
   "metadata": {},
   "outputs": [
    {
     "name": "stdout",
     "output_type": "stream",
     "text": [
      "[3]\n",
      "3\n"
     ]
    },
    {
     "data": {
      "image/png": "[encoded data removed]",
      "text/plain": [
       "<Figure size 640x480 with 1 Axes>"
      ]
     },
     "metadata": {},
     "output_type": "display_data"
    }
   ],
   "source": [
    "n = 890\n",
    "some_data = X_train[n]\n",
    "pred = forest_clf.predict([some_data])\n",
    "print(pred)\n",
    "image_plotter(n, X_train)"
   ]
  },
  {
   "cell_type": "code",
   "execution_count": 40,
   "id": "90d17b2f",
   "metadata": {},
   "outputs": [],
   "source": [
    "#alright let's see the performances of these guys using a ROC curve.\n",
    "multi_forest_probas = cross_val_predict(forest_clf, X_train, y_train, cv=3,method=\"predict_proba\")"
   ]
  },
  {
   "cell_type": "code",
   "execution_count": 41,
   "id": "9ee8f7bd",
   "metadata": {},
   "outputs": [
    {
     "data": {
      "text/plain": [
       "array([[0.  , 0.02, 0.02, ..., 0.  , 0.01, 0.01],\n",
       "       [0.99, 0.  , 0.  , ..., 0.  , 0.  , 0.  ],\n",
       "       [0.  , 0.  , 0.02, ..., 0.06, 0.02, 0.07],\n",
       "       ...,\n",
       "       [0.  , 0.  , 0.  , ..., 0.01, 0.01, 0.05],\n",
       "       [0.03, 0.02, 0.04, ..., 0.  , 0.01, 0.  ],\n",
       "       [0.02, 0.01, 0.04, ..., 0.04, 0.72, 0.06]])"
      ]
     },
     "execution_count": 41,
     "metadata": {},
     "output_type": "execute_result"
    }
   ],
   "source": [
    "multi_forest_probas"
   ]
  },
  {
   "cell_type": "code",
   "execution_count": 42,
   "id": "00f20d55",
   "metadata": {},
   "outputs": [
    {
     "data": {
      "text/plain": [
       "array([0.91545, 0.9131 , 0.92045])"
      ]
     },
     "execution_count": 42,
     "metadata": {},
     "output_type": "execute_result"
    }
   ],
   "source": [
    "cross_val_score(ovo_clf, X_train, y_train, cv=3, scoring=\"accuracy\")"
   ]
  },
  {
   "cell_type": "code",
   "execution_count": 43,
   "id": "2dbf4261",
   "metadata": {},
   "outputs": [
    {
     "data": {
      "text/plain": [
       "array([0.87365, 0.85835, 0.8689 ])"
      ]
     },
     "execution_count": 43,
     "metadata": {},
     "output_type": "execute_result"
    }
   ],
   "source": [
    "cross_val_score(sgd_clf, X_train, y_train, cv=3, scoring=\"accuracy\")\n",
    "#well not bad but it can be better if we just scale the inputs"
   ]
  },
  {
   "cell_type": "code",
   "execution_count": 44,
   "id": "0f9b8807",
   "metadata": {},
   "outputs": [
    {
     "data": {
      "text/plain": [
       "array([0.8983, 0.891 , 0.9018])"
      ]
     },
     "execution_count": 44,
     "metadata": {},
     "output_type": "execute_result"
    }
   ],
   "source": [
    "from sklearn.preprocessing import StandardScaler\n",
    "scaler = StandardScaler()\n",
    "X_train_scaled = scaler.fit_transform(X_train.astype(np.float64))\n",
    "cross_val_score(sgd_clf, X_train_scaled, y_train, cv=3, scoring=\"accuracy\")"
   ]
  },
  {
   "cell_type": "code",
   "execution_count": 45,
   "id": "0593c944",
   "metadata": {},
   "outputs": [
    {
     "data": {
      "text/plain": [
       "array([[5577,    0,   22,    5,    8,   43,   36,    6,  225,    1],\n",
       "       [   0, 6400,   37,   24,    4,   44,    4,    7,  212,   10],\n",
       "       [  27,   27, 5220,   92,   73,   27,   67,   36,  378,   11],\n",
       "       [  22,   17,  117, 5227,    2,  203,   27,   40,  403,   73],\n",
       "       [  12,   14,   41,    9, 5182,   12,   34,   27,  347,  164],\n",
       "       [  27,   15,   30,  168,   53, 4444,   75,   14,  535,   60],\n",
       "       [  30,   15,   42,    3,   44,   97, 5552,    3,  131,    1],\n",
       "       [  21,   10,   51,   30,   49,   12,    3, 5684,  195,  210],\n",
       "       [  17,   63,   48,   86,    3,  126,   25,   10, 5429,   44],\n",
       "       [  25,   18,   30,   64,  118,   36,    1,  179,  371, 5107]],\n",
       "      dtype=int64)"
      ]
     },
     "execution_count": 45,
     "metadata": {},
     "output_type": "execute_result"
    }
   ],
   "source": [
    "#whew.... well there's that now we check for errors \n",
    "y_train_pred = cross_val_predict(sgd_clf, X_train_scaled, y_train, cv=3)\n",
    "conf_mx = confusion_matrix(y_train, y_train_pred)\n",
    "conf_mx"
   ]
  },
  {
   "cell_type": "code",
   "execution_count": 46,
   "id": "f7af966d",
   "metadata": {},
   "outputs": [
    {
     "data": {
      "image/png": "[encoded data removed]",
      "text/plain": [
       "<Figure size 480x480 with 1 Axes>"
      ]
     },
     "metadata": {},
     "output_type": "display_data"
    }
   ],
   "source": [
    "plt.matshow(conf_mx, cmap=plt.cm.gray)\n",
    "plt.show()"
   ]
  },
  {
   "cell_type": "code",
   "execution_count": 47,
   "id": "ae84dd11",
   "metadata": {},
   "outputs": [
    {
     "ename": "SyntaxError",
     "evalue": "invalid syntax (2855404546.py, line 6)",
     "output_type": "error",
     "traceback": [
      "\u001b[1;36m  Cell \u001b[1;32mIn[47], line 6\u001b[1;36m\u001b[0m\n\u001b[1;33m    plt.show()np.fill_diagonal(norm_conf_mx, 0)\u001b[0m\n\u001b[1;37m              ^\u001b[0m\n\u001b[1;31mSyntaxError\u001b[0m\u001b[1;31m:\u001b[0m invalid syntax\n"
     ]
    }
   ],
   "source": [
    "row_sums = conf_mx.sum(axis=1, keepdims=True)\n",
    "norm_conf_mx = conf_mx / row_sums\n",
    "#Now let’s fill the diagonal with zeros to keep only the errors, and let’s plot the result:\n",
    "np.fill_diagonal(norm_conf_mx, 0)\n",
    "plt.matshow(norm_conf_mx, cmap=plt.cm.gray)\n",
    "plt.show()np.fill_diagonal(norm_conf_mx, 0)\n",
    "plt.matshow(norm_conf_mx, cmap=plt.cm.gray)\n",
    "plt.show()"
   ]
  },
  {
   "cell_type": "code",
   "execution_count": null,
   "id": "645bba15",
   "metadata": {},
   "outputs": [],
   "source": [
    "import numpy as np\n",
    "import matplotlib.pyplot as plt\n",
    "\n",
    "def plot_digits(images, images_per_row=5):\n",
    "    \"\"\"\n",
    "    Plot a grid of images.\n",
    "\n",
    "    Parameters:\n",
    "        images (numpy array): An array of images to plot. The shape should be (num_images, image_height, image_width).\n",
    "        images_per_row (int): Number of images to display per row in the grid.\n",
    "\n",
    "    Returns:\n",
    "        None\n",
    "    \"\"\"\n",
    "    num_images = images.shape[0]\n",
    "    num_rows = (num_images - 1) // images_per_row + 1\n",
    "\n",
    "    # Create a large subplot for the entire grid of images\n",
    "    plt.figure(figsize=(images_per_row, num_rows))\n",
    "    for i in range(num_images):\n",
    "        plt.subplot(num_rows, images_per_row, i + 1)\n",
    "        plt.imshow(images[i].reshape(28, 28), cmap='binary', interpolation='nearest')\n",
    "        plt.axis('off')\n",
    "\n",
    "# Example usage:\n",
    "# Assuming you have X_aa, X_ab, X_ba, X_bb defined as arrays of images (num_images, image_height, image_width)\n",
    "# cl_a and cl_b are the class labels\n",
    "# plot_digits(X_aa[:25], images_per_row=5)\n",
    "# plt.show()\n"
   ]
  },
  {
   "cell_type": "code",
   "execution_count": null,
   "id": "cb724fd4",
   "metadata": {
    "scrolled": false
   },
   "outputs": [],
   "source": [
    "cl_a, cl_b = 5, 8\n",
    "X_aa = X_train[(y_train == cl_a) & (y_train_pred == cl_a)]\n",
    "X_ab = X_train[(y_train == cl_a) & (y_train_pred == cl_b)]\n",
    "X_ba = X_train[(y_train == cl_b) & (y_train_pred == cl_a)]\n",
    "X_bb = X_train[(y_train == cl_b) & (y_train_pred == cl_b)]\n",
    "plt.figure(figsize=(8,8))\n",
    "plot_digits(X_aa[:25], images_per_row=5)\n",
    "plt.show()\n",
    "plot_digits(X_ab[:25], images_per_row=5)\n",
    "plt.show()\n",
    "plot_digits(X_ba[:25], images_per_row=5)\n",
    "plt.show()\n",
    "plot_digits(X_bb[:25], images_per_row=5)\n",
    "plt.show()"
   ]
  },
  {
   "cell_type": "code",
   "execution_count": null,
   "id": "648b5d6c",
   "metadata": {},
   "outputs": [],
   "source": [
    " plot_digits(X_aa[:25], images_per_row=5)"
   ]
  },
  {
   "cell_type": "code",
   "execution_count": null,
   "id": "24ca159a",
   "metadata": {},
   "outputs": [],
   "source": [
    "#Multilabel Classification\n",
    "#Well now we are classsifying based on more than one label usking k-nearest neighbour \n",
    "from sklearn.neighbors import KNeighborsClassifier\n",
    "y_train_large = (y_train >= 7)#first label\n",
    "y_train_odd = (y_train % 2 == 1)#second label\n",
    "y_multilabel = np.c_[y_train_large, y_train_odd]#combined label\n",
    "knn_clf = KNeighborsClassifier()\n",
    "knn_clf.fit(X_train, y_multilabel)#trained model\n"
   ]
  },
  {
   "cell_type": "code",
   "execution_count": null,
   "id": "4a214c6e",
   "metadata": {},
   "outputs": [],
   "source": [
    "n = 890\n",
    "some_data = X_train[n]\n",
    "pred = knn_clf.predict([some_data])\n",
    "print(pred)\n",
    "image_plotter(n, X_train)\n",
    "#well mf works we know the number is three i.e it is not large and its odd: [0,1]"
   ]
  },
  {
   "cell_type": "code",
   "execution_count": null,
   "id": "1fca8f94",
   "metadata": {},
   "outputs": [],
   "source": [
    "#Alright alright not so fast knn we must evaluate you too\n",
    "from sklearn.metrics import f1_score\n",
    "y_train_knn_pred = cross_val_predict(knn_clf, X_train, y_multilabel, cv=3)\n",
    "f1_score(y_multilabel, y_train_knn_pred, average=\"macro\")\n",
    "#wow easy!!"
   ]
  },
  {
   "cell_type": "code",
   "execution_count": null,
   "id": "df4a422f",
   "metadata": {},
   "outputs": [],
   "source": [
    "#finally Multioutput Classification\n",
    "#The last type of classification task we are going to discuss here is called multioutputmulticlass classification (or simply multioutput classification). It is simply a generaliza‐\n",
    "#tion of multilabel classification where each label can be multiclass (i.e., it can have\n",
    "#more than two possible values).\n",
    "\n",
    "\n",
    "\n",
    "#to demonstrate this we'll be using a noisy picture just polute the mnist images\n",
    "noise = np.random.randint(0, 100, (len(X_train), 784))\n",
    "X_train_mod = X_train + noise\n",
    "noise = np.random.randint(0, 100, (len(X_test), 784))\n",
    "X_test_mod = X_test + noise\n",
    "y_train_mod = X_train\n",
    "y_test_mod = X_test\n"
   ]
  },
  {
   "cell_type": "code",
   "execution_count": null,
   "id": "14aab89d",
   "metadata": {
    "scrolled": false
   },
   "outputs": [],
   "source": [
    "image_plotter(1, X_test_mod)"
   ]
  },
  {
   "cell_type": "code",
   "execution_count": null,
   "id": "4385dfb6",
   "metadata": {},
   "outputs": [],
   "source": [
    "#yikes...\n",
    "knn_clf.fit(X_train_mod, y_train_mod)"
   ]
  },
  {
   "cell_type": "code",
   "execution_count": null,
   "id": "94bd6955",
   "metadata": {},
   "outputs": [],
   "source": [
    "clean_digit = knn_clf.predict([X_test_mod[1]])\n",
    "plot_digits(clean_digit)"
   ]
  },
  {
   "cell_type": "code",
   "execution_count": 50,
   "id": "b24eb1f1",
   "metadata": {},
   "outputs": [],
   "source": [
    "test_data = pd.read_csv(\"test_digits.csv\")"
   ]
  },
  {
   "cell_type": "code",
   "execution_count": 52,
   "id": "6d40a354",
   "metadata": {},
   "outputs": [
    {
     "name": "stdout",
     "output_type": "stream",
     "text": [
      "pixel0  :  0\n",
      "pixel1  :  0\n",
      "pixel2  :  0\n",
      "pixel3  :  0\n",
      "pixel4  :  0\n",
      "pixel5  :  0\n",
      "pixel6  :  0\n",
      "pixel7  :  0\n",
      "pixel8  :  0\n",
      "pixel9  :  0\n",
      "pixel10  :  0\n",
      "pixel11  :  0\n",
      "pixel12  :  0\n",
      "pixel13  :  0\n",
      "pixel14  :  0\n",
      "pixel15  :  0\n",
      "pixel16  :  0\n",
      "pixel17  :  0\n",
      "pixel18  :  0\n",
      "pixel19  :  0\n",
      "pixel20  :  0\n",
      "pixel21  :  0\n",
      "pixel22  :  0\n",
      "pixel23  :  0\n",
      "pixel24  :  0\n",
      "pixel25  :  0\n",
      "pixel26  :  0\n",
      "pixel27  :  0\n",
      "pixel28  :  0\n",
      "pixel29  :  0\n",
      "pixel30  :  0\n",
      "pixel31  :  0\n",
      "pixel32  :  0\n",
      "pixel33  :  0\n",
      "pixel34  :  0\n",
      "pixel35  :  0\n",
      "pixel36  :  0\n",
      "pixel37  :  0\n",
      "pixel38  :  0\n",
      "pixel39  :  0\n",
      "pixel40  :  0\n",
      "pixel41  :  0\n",
      "pixel42  :  0\n",
      "pixel43  :  0\n",
      "pixel44  :  0\n",
      "pixel45  :  0\n",
      "pixel46  :  0\n",
      "pixel47  :  0\n",
      "pixel48  :  0\n",
      "pixel49  :  0\n",
      "pixel50  :  0\n",
      "pixel51  :  0\n",
      "pixel52  :  0\n",
      "pixel53  :  0\n",
      "pixel54  :  0\n",
      "pixel55  :  0\n",
      "pixel56  :  0\n",
      "pixel57  :  0\n",
      "pixel58  :  0\n",
      "pixel59  :  0\n",
      "pixel60  :  0\n",
      "pixel61  :  0\n",
      "pixel62  :  0\n",
      "pixel63  :  0\n",
      "pixel64  :  0\n",
      "pixel65  :  0\n",
      "pixel66  :  0\n",
      "pixel67  :  0\n",
      "pixel68  :  0\n",
      "pixel69  :  0\n",
      "pixel70  :  0\n",
      "pixel71  :  0\n",
      "pixel72  :  0\n",
      "pixel73  :  0\n",
      "pixel74  :  0\n",
      "pixel75  :  0\n",
      "pixel76  :  0\n",
      "pixel77  :  0\n",
      "pixel78  :  0\n",
      "pixel79  :  0\n",
      "pixel80  :  0\n",
      "pixel81  :  0\n",
      "pixel82  :  0\n",
      "pixel83  :  0\n",
      "pixel84  :  0\n",
      "pixel85  :  0\n",
      "pixel86  :  0\n",
      "pixel87  :  0\n",
      "pixel88  :  0\n",
      "pixel89  :  0\n",
      "pixel90  :  0\n",
      "pixel91  :  0\n",
      "pixel92  :  0\n",
      "pixel93  :  0\n",
      "pixel94  :  0\n",
      "pixel95  :  0\n",
      "pixel96  :  0\n",
      "pixel97  :  0\n",
      "pixel98  :  0\n",
      "pixel99  :  0\n",
      "pixel100  :  0\n",
      "pixel101  :  0\n",
      "pixel102  :  0\n",
      "pixel103  :  0\n",
      "pixel104  :  0\n",
      "pixel105  :  0\n",
      "pixel106  :  0\n",
      "pixel107  :  0\n",
      "pixel108  :  0\n",
      "pixel109  :  0\n",
      "pixel110  :  0\n",
      "pixel111  :  0\n",
      "pixel112  :  0\n",
      "pixel113  :  0\n",
      "pixel114  :  0\n",
      "pixel115  :  0\n",
      "pixel116  :  0\n",
      "pixel117  :  0\n",
      "pixel118  :  0\n",
      "pixel119  :  0\n",
      "pixel120  :  0\n",
      "pixel121  :  0\n",
      "pixel122  :  0\n",
      "pixel123  :  0\n",
      "pixel124  :  0\n",
      "pixel125  :  0\n",
      "pixel126  :  0\n",
      "pixel127  :  0\n",
      "pixel128  :  0\n",
      "pixel129  :  0\n",
      "pixel130  :  0\n",
      "pixel131  :  0\n",
      "pixel132  :  0\n",
      "pixel133  :  0\n",
      "pixel134  :  0\n",
      "pixel135  :  0\n",
      "pixel136  :  0\n",
      "pixel137  :  0\n",
      "pixel138  :  0\n",
      "pixel139  :  0\n",
      "pixel140  :  0\n",
      "pixel141  :  0\n",
      "pixel142  :  0\n",
      "pixel143  :  0\n",
      "pixel144  :  0\n",
      "pixel145  :  0\n",
      "pixel146  :  0\n",
      "pixel147  :  0\n",
      "pixel148  :  0\n",
      "pixel149  :  0\n",
      "pixel150  :  0\n",
      "pixel151  :  0\n",
      "pixel152  :  0\n",
      "pixel153  :  0\n",
      "pixel154  :  0\n",
      "pixel155  :  0\n",
      "pixel156  :  0\n",
      "pixel157  :  0\n",
      "pixel158  :  0\n",
      "pixel159  :  0\n",
      "pixel160  :  0\n",
      "pixel161  :  0\n",
      "pixel162  :  0\n",
      "pixel163  :  0\n",
      "pixel164  :  0\n",
      "pixel165  :  0\n",
      "pixel166  :  0\n",
      "pixel167  :  0\n",
      "pixel168  :  0\n",
      "pixel169  :  0\n",
      "pixel170  :  0\n",
      "pixel171  :  0\n",
      "pixel172  :  0\n",
      "pixel173  :  0\n",
      "pixel174  :  0\n",
      "pixel175  :  0\n",
      "pixel176  :  0\n",
      "pixel177  :  0\n",
      "pixel178  :  0\n",
      "pixel179  :  0\n",
      "pixel180  :  0\n",
      "pixel181  :  0\n",
      "pixel182  :  0\n",
      "pixel183  :  0\n",
      "pixel184  :  0\n",
      "pixel185  :  0\n",
      "pixel186  :  0\n",
      "pixel187  :  0\n",
      "pixel188  :  0\n",
      "pixel189  :  0\n",
      "pixel190  :  0\n",
      "pixel191  :  0\n",
      "pixel192  :  0\n",
      "pixel193  :  0\n",
      "pixel194  :  0\n",
      "pixel195  :  0\n",
      "pixel196  :  0\n",
      "pixel197  :  0\n",
      "pixel198  :  0\n",
      "pixel199  :  0\n",
      "pixel200  :  0\n",
      "pixel201  :  0\n",
      "pixel202  :  0\n",
      "pixel203  :  0\n",
      "pixel204  :  0\n",
      "pixel205  :  0\n",
      "pixel206  :  0\n",
      "pixel207  :  0\n",
      "pixel208  :  0\n",
      "pixel209  :  0\n",
      "pixel210  :  0\n",
      "pixel211  :  0\n",
      "pixel212  :  0\n",
      "pixel213  :  0\n",
      "pixel214  :  0\n",
      "pixel215  :  0\n",
      "pixel216  :  0\n",
      "pixel217  :  0\n",
      "pixel218  :  0\n",
      "pixel219  :  0\n",
      "pixel220  :  0\n",
      "pixel221  :  0\n",
      "pixel222  :  0\n",
      "pixel223  :  0\n",
      "pixel224  :  0\n",
      "pixel225  :  0\n",
      "pixel226  :  0\n",
      "pixel227  :  0\n",
      "pixel228  :  0\n",
      "pixel229  :  0\n",
      "pixel230  :  0\n",
      "pixel231  :  0\n",
      "pixel232  :  0\n",
      "pixel233  :  0\n",
      "pixel234  :  0\n",
      "pixel235  :  0\n",
      "pixel236  :  0\n",
      "pixel237  :  0\n",
      "pixel238  :  0\n",
      "pixel239  :  0\n",
      "pixel240  :  0\n",
      "pixel241  :  0\n",
      "pixel242  :  0\n",
      "pixel243  :  0\n",
      "pixel244  :  0\n",
      "pixel245  :  0\n",
      "pixel246  :  0\n",
      "pixel247  :  0\n",
      "pixel248  :  0\n",
      "pixel249  :  0\n",
      "pixel250  :  0\n",
      "pixel251  :  0\n",
      "pixel252  :  0\n",
      "pixel253  :  0\n",
      "pixel254  :  0\n",
      "pixel255  :  0\n",
      "pixel256  :  0\n",
      "pixel257  :  0\n",
      "pixel258  :  0\n",
      "pixel259  :  0\n",
      "pixel260  :  0\n",
      "pixel261  :  0\n",
      "pixel262  :  0\n",
      "pixel263  :  0\n",
      "pixel264  :  0\n",
      "pixel265  :  0\n",
      "pixel266  :  0\n",
      "pixel267  :  0\n",
      "pixel268  :  0\n",
      "pixel269  :  0\n",
      "pixel270  :  0\n",
      "pixel271  :  0\n",
      "pixel272  :  0\n",
      "pixel273  :  0\n",
      "pixel274  :  0\n",
      "pixel275  :  0\n",
      "pixel276  :  0\n",
      "pixel277  :  0\n",
      "pixel278  :  0\n",
      "pixel279  :  0\n",
      "pixel280  :  0\n",
      "pixel281  :  0\n",
      "pixel282  :  0\n",
      "pixel283  :  0\n",
      "pixel284  :  0\n",
      "pixel285  :  0\n",
      "pixel286  :  0\n",
      "pixel287  :  0\n",
      "pixel288  :  0\n",
      "pixel289  :  0\n",
      "pixel290  :  0\n",
      "pixel291  :  0\n",
      "pixel292  :  0\n",
      "pixel293  :  0\n",
      "pixel294  :  0\n",
      "pixel295  :  0\n",
      "pixel296  :  0\n",
      "pixel297  :  0\n",
      "pixel298  :  0\n",
      "pixel299  :  0\n",
      "pixel300  :  0\n",
      "pixel301  :  0\n",
      "pixel302  :  0\n",
      "pixel303  :  0\n",
      "pixel304  :  0\n",
      "pixel305  :  0\n",
      "pixel306  :  0\n",
      "pixel307  :  0\n",
      "pixel308  :  0\n",
      "pixel309  :  0\n",
      "pixel310  :  0\n",
      "pixel311  :  0\n",
      "pixel312  :  0\n",
      "pixel313  :  0\n",
      "pixel314  :  0\n",
      "pixel315  :  0\n",
      "pixel316  :  0\n",
      "pixel317  :  0\n",
      "pixel318  :  0\n",
      "pixel319  :  0\n",
      "pixel320  :  0\n",
      "pixel321  :  0\n",
      "pixel322  :  0\n",
      "pixel323  :  0\n",
      "pixel324  :  0\n",
      "pixel325  :  0\n",
      "pixel326  :  0\n",
      "pixel327  :  0\n",
      "pixel328  :  0\n",
      "pixel329  :  0\n",
      "pixel330  :  0\n",
      "pixel331  :  0\n",
      "pixel332  :  0\n",
      "pixel333  :  0\n",
      "pixel334  :  0\n",
      "pixel335  :  0\n",
      "pixel336  :  0\n",
      "pixel337  :  0\n",
      "pixel338  :  0\n",
      "pixel339  :  0\n",
      "pixel340  :  0\n",
      "pixel341  :  0\n",
      "pixel342  :  0\n",
      "pixel343  :  0\n",
      "pixel344  :  0\n",
      "pixel345  :  0\n",
      "pixel346  :  0\n",
      "pixel347  :  0\n",
      "pixel348  :  0\n",
      "pixel349  :  0\n",
      "pixel350  :  0\n",
      "pixel351  :  0\n",
      "pixel352  :  0\n",
      "pixel353  :  0\n",
      "pixel354  :  0\n",
      "pixel355  :  0\n",
      "pixel356  :  0\n",
      "pixel357  :  0\n",
      "pixel358  :  0\n",
      "pixel359  :  0\n",
      "pixel360  :  0\n",
      "pixel361  :  0\n",
      "pixel362  :  0\n",
      "pixel363  :  0\n",
      "pixel364  :  0\n",
      "pixel365  :  0\n",
      "pixel366  :  0\n",
      "pixel367  :  0\n",
      "pixel368  :  0\n",
      "pixel369  :  0\n",
      "pixel370  :  0\n",
      "pixel371  :  0\n",
      "pixel372  :  0\n",
      "pixel373  :  0\n",
      "pixel374  :  0\n",
      "pixel375  :  0\n",
      "pixel376  :  0\n",
      "pixel377  :  0\n",
      "pixel378  :  0\n",
      "pixel379  :  0\n",
      "pixel380  :  0\n",
      "pixel381  :  0\n",
      "pixel382  :  0\n",
      "pixel383  :  0\n",
      "pixel384  :  0\n",
      "pixel385  :  0\n",
      "pixel386  :  0\n",
      "pixel387  :  0\n",
      "pixel388  :  0\n",
      "pixel389  :  0\n",
      "pixel390  :  0\n",
      "pixel391  :  0\n",
      "pixel392  :  0\n",
      "pixel393  :  0\n",
      "pixel394  :  0\n",
      "pixel395  :  0\n",
      "pixel396  :  0\n",
      "pixel397  :  0\n",
      "pixel398  :  0\n",
      "pixel399  :  0\n",
      "pixel400  :  0\n",
      "pixel401  :  0\n",
      "pixel402  :  0\n",
      "pixel403  :  0\n",
      "pixel404  :  0\n",
      "pixel405  :  0\n",
      "pixel406  :  0\n",
      "pixel407  :  0\n",
      "pixel408  :  0\n",
      "pixel409  :  0\n",
      "pixel410  :  0\n",
      "pixel411  :  0\n",
      "pixel412  :  0\n",
      "pixel413  :  0\n",
      "pixel414  :  0\n",
      "pixel415  :  0\n",
      "pixel416  :  0\n",
      "pixel417  :  0\n",
      "pixel418  :  0\n",
      "pixel419  :  0\n",
      "pixel420  :  0\n",
      "pixel421  :  0\n",
      "pixel422  :  0\n",
      "pixel423  :  0\n",
      "pixel424  :  0\n",
      "pixel425  :  0\n",
      "pixel426  :  0\n",
      "pixel427  :  0\n",
      "pixel428  :  0\n",
      "pixel429  :  0\n",
      "pixel430  :  0\n",
      "pixel431  :  0\n",
      "pixel432  :  0\n",
      "pixel433  :  0\n",
      "pixel434  :  0\n",
      "pixel435  :  0\n",
      "pixel436  :  0\n",
      "pixel437  :  0\n",
      "pixel438  :  0\n",
      "pixel439  :  0\n",
      "pixel440  :  0\n",
      "pixel441  :  0\n",
      "pixel442  :  0\n",
      "pixel443  :  0\n",
      "pixel444  :  0\n",
      "pixel445  :  0\n",
      "pixel446  :  0\n",
      "pixel447  :  0\n",
      "pixel448  :  0\n",
      "pixel449  :  0\n",
      "pixel450  :  0\n",
      "pixel451  :  0\n",
      "pixel452  :  0\n",
      "pixel453  :  0\n",
      "pixel454  :  0\n",
      "pixel455  :  0\n",
      "pixel456  :  0\n",
      "pixel457  :  0\n",
      "pixel458  :  0\n",
      "pixel459  :  0\n",
      "pixel460  :  0\n",
      "pixel461  :  0\n",
      "pixel462  :  0\n",
      "pixel463  :  0\n",
      "pixel464  :  0\n",
      "pixel465  :  0\n",
      "pixel466  :  0\n",
      "pixel467  :  0\n",
      "pixel468  :  0\n",
      "pixel469  :  0\n",
      "pixel470  :  0\n",
      "pixel471  :  0\n",
      "pixel472  :  0\n",
      "pixel473  :  0\n",
      "pixel474  :  0\n",
      "pixel475  :  0\n",
      "pixel476  :  0\n",
      "pixel477  :  0\n",
      "pixel478  :  0\n",
      "pixel479  :  0\n",
      "pixel480  :  0\n",
      "pixel481  :  0\n",
      "pixel482  :  0\n",
      "pixel483  :  0\n",
      "pixel484  :  0\n",
      "pixel485  :  0\n",
      "pixel486  :  0\n",
      "pixel487  :  0\n",
      "pixel488  :  0\n",
      "pixel489  :  0\n",
      "pixel490  :  0\n",
      "pixel491  :  0\n",
      "pixel492  :  0\n",
      "pixel493  :  0\n",
      "pixel494  :  0\n",
      "pixel495  :  0\n",
      "pixel496  :  0\n",
      "pixel497  :  0\n",
      "pixel498  :  0\n",
      "pixel499  :  0\n",
      "pixel500  :  0\n",
      "pixel501  :  0\n",
      "pixel502  :  0\n",
      "pixel503  :  0\n",
      "pixel504  :  0\n",
      "pixel505  :  0\n",
      "pixel506  :  0\n",
      "pixel507  :  0\n",
      "pixel508  :  0\n",
      "pixel509  :  0\n",
      "pixel510  :  0\n",
      "pixel511  :  0\n",
      "pixel512  :  0\n",
      "pixel513  :  0\n",
      "pixel514  :  0\n",
      "pixel515  :  0\n",
      "pixel516  :  0\n",
      "pixel517  :  0\n",
      "pixel518  :  0\n",
      "pixel519  :  0\n",
      "pixel520  :  0\n",
      "pixel521  :  0\n",
      "pixel522  :  0\n",
      "pixel523  :  0\n",
      "pixel524  :  0\n",
      "pixel525  :  0\n",
      "pixel526  :  0\n",
      "pixel527  :  0\n",
      "pixel528  :  0\n",
      "pixel529  :  0\n",
      "pixel530  :  0\n",
      "pixel531  :  0\n",
      "pixel532  :  0\n",
      "pixel533  :  0\n",
      "pixel534  :  0\n",
      "pixel535  :  0\n",
      "pixel536  :  0\n",
      "pixel537  :  0\n",
      "pixel538  :  0\n",
      "pixel539  :  0\n",
      "pixel540  :  0\n",
      "pixel541  :  0\n",
      "pixel542  :  0\n",
      "pixel543  :  0\n",
      "pixel544  :  0\n",
      "pixel545  :  0\n",
      "pixel546  :  0\n",
      "pixel547  :  0\n",
      "pixel548  :  0\n",
      "pixel549  :  0\n",
      "pixel550  :  0\n",
      "pixel551  :  0\n",
      "pixel552  :  0\n",
      "pixel553  :  0\n",
      "pixel554  :  0\n",
      "pixel555  :  0\n",
      "pixel556  :  0\n",
      "pixel557  :  0\n",
      "pixel558  :  0\n",
      "pixel559  :  0\n",
      "pixel560  :  0\n",
      "pixel561  :  0\n",
      "pixel562  :  0\n",
      "pixel563  :  0\n",
      "pixel564  :  0\n",
      "pixel565  :  0\n",
      "pixel566  :  0\n",
      "pixel567  :  0\n",
      "pixel568  :  0\n",
      "pixel569  :  0\n",
      "pixel570  :  0\n",
      "pixel571  :  0\n",
      "pixel572  :  0\n",
      "pixel573  :  0\n",
      "pixel574  :  0\n",
      "pixel575  :  0\n",
      "pixel576  :  0\n",
      "pixel577  :  0\n",
      "pixel578  :  0\n",
      "pixel579  :  0\n",
      "pixel580  :  0\n",
      "pixel581  :  0\n",
      "pixel582  :  0\n",
      "pixel583  :  0\n",
      "pixel584  :  0\n",
      "pixel585  :  0\n",
      "pixel586  :  0\n",
      "pixel587  :  0\n",
      "pixel588  :  0\n",
      "pixel589  :  0\n",
      "pixel590  :  0\n",
      "pixel591  :  0\n",
      "pixel592  :  0\n",
      "pixel593  :  0\n",
      "pixel594  :  0\n",
      "pixel595  :  0\n",
      "pixel596  :  0\n",
      "pixel597  :  0\n",
      "pixel598  :  0\n",
      "pixel599  :  0\n",
      "pixel600  :  0\n",
      "pixel601  :  0\n",
      "pixel602  :  0\n",
      "pixel603  :  0\n",
      "pixel604  :  0\n",
      "pixel605  :  0\n",
      "pixel606  :  0\n",
      "pixel607  :  0\n",
      "pixel608  :  0\n",
      "pixel609  :  0\n",
      "pixel610  :  0\n",
      "pixel611  :  0\n",
      "pixel612  :  0\n",
      "pixel613  :  0\n",
      "pixel614  :  0\n",
      "pixel615  :  0\n",
      "pixel616  :  0\n",
      "pixel617  :  0\n",
      "pixel618  :  0\n",
      "pixel619  :  0\n",
      "pixel620  :  0\n",
      "pixel621  :  0\n",
      "pixel622  :  0\n",
      "pixel623  :  0\n",
      "pixel624  :  0\n",
      "pixel625  :  0\n",
      "pixel626  :  0\n",
      "pixel627  :  0\n",
      "pixel628  :  0\n",
      "pixel629  :  0\n",
      "pixel630  :  0\n",
      "pixel631  :  0\n",
      "pixel632  :  0\n",
      "pixel633  :  0\n",
      "pixel634  :  0\n",
      "pixel635  :  0\n",
      "pixel636  :  0\n",
      "pixel637  :  0\n",
      "pixel638  :  0\n",
      "pixel639  :  0\n",
      "pixel640  :  0\n",
      "pixel641  :  0\n",
      "pixel642  :  0\n",
      "pixel643  :  0\n",
      "pixel644  :  0\n",
      "pixel645  :  0\n",
      "pixel646  :  0\n",
      "pixel647  :  0\n",
      "pixel648  :  0\n",
      "pixel649  :  0\n",
      "pixel650  :  0\n",
      "pixel651  :  0\n",
      "pixel652  :  0\n",
      "pixel653  :  0\n",
      "pixel654  :  0\n",
      "pixel655  :  0\n",
      "pixel656  :  0\n",
      "pixel657  :  0\n",
      "pixel658  :  0\n",
      "pixel659  :  0\n",
      "pixel660  :  0\n",
      "pixel661  :  0\n",
      "pixel662  :  0\n",
      "pixel663  :  0\n",
      "pixel664  :  0\n",
      "pixel665  :  0\n",
      "pixel666  :  0\n",
      "pixel667  :  0\n",
      "pixel668  :  0\n",
      "pixel669  :  0\n",
      "pixel670  :  0\n",
      "pixel671  :  0\n",
      "pixel672  :  0\n",
      "pixel673  :  0\n",
      "pixel674  :  0\n",
      "pixel675  :  0\n",
      "pixel676  :  0\n",
      "pixel677  :  0\n",
      "pixel678  :  0\n",
      "pixel679  :  0\n",
      "pixel680  :  0\n",
      "pixel681  :  0\n",
      "pixel682  :  0\n",
      "pixel683  :  0\n",
      "pixel684  :  0\n",
      "pixel685  :  0\n",
      "pixel686  :  0\n",
      "pixel687  :  0\n",
      "pixel688  :  0\n",
      "pixel689  :  0\n",
      "pixel690  :  0\n",
      "pixel691  :  0\n",
      "pixel692  :  0\n",
      "pixel693  :  0\n",
      "pixel694  :  0\n",
      "pixel695  :  0\n",
      "pixel696  :  0\n",
      "pixel697  :  0\n",
      "pixel698  :  0\n",
      "pixel699  :  0\n",
      "pixel700  :  0\n",
      "pixel701  :  0\n",
      "pixel702  :  0\n",
      "pixel703  :  0\n",
      "pixel704  :  0\n",
      "pixel705  :  0\n",
      "pixel706  :  0\n",
      "pixel707  :  0\n",
      "pixel708  :  0\n",
      "pixel709  :  0\n",
      "pixel710  :  0\n",
      "pixel711  :  0\n",
      "pixel712  :  0\n",
      "pixel713  :  0\n",
      "pixel714  :  0\n",
      "pixel715  :  0\n",
      "pixel716  :  0\n",
      "pixel717  :  0\n",
      "pixel718  :  0\n",
      "pixel719  :  0\n",
      "pixel720  :  0\n",
      "pixel721  :  0\n",
      "pixel722  :  0\n",
      "pixel723  :  0\n",
      "pixel724  :  0\n",
      "pixel725  :  0\n",
      "pixel726  :  0\n",
      "pixel727  :  0\n",
      "pixel728  :  0\n",
      "pixel729  :  0\n",
      "pixel730  :  0\n",
      "pixel731  :  0\n",
      "pixel732  :  0\n",
      "pixel733  :  0\n",
      "pixel734  :  0\n",
      "pixel735  :  0\n",
      "pixel736  :  0\n",
      "pixel737  :  0\n",
      "pixel738  :  0\n",
      "pixel739  :  0\n",
      "pixel740  :  0\n",
      "pixel741  :  0\n",
      "pixel742  :  0\n",
      "pixel743  :  0\n",
      "pixel744  :  0\n",
      "pixel745  :  0\n",
      "pixel746  :  0\n",
      "pixel747  :  0\n",
      "pixel748  :  0\n",
      "pixel749  :  0\n",
      "pixel750  :  0\n",
      "pixel751  :  0\n",
      "pixel752  :  0\n",
      "pixel753  :  0\n",
      "pixel754  :  0\n",
      "pixel755  :  0\n",
      "pixel756  :  0\n",
      "pixel757  :  0\n",
      "pixel758  :  0\n",
      "pixel759  :  0\n",
      "pixel760  :  0\n",
      "pixel761  :  0\n",
      "pixel762  :  0\n",
      "pixel763  :  0\n",
      "pixel764  :  0\n",
      "pixel765  :  0\n",
      "pixel766  :  0\n",
      "pixel767  :  0\n",
      "pixel768  :  0\n",
      "pixel769  :  0\n",
      "pixel770  :  0\n",
      "pixel771  :  0\n",
      "pixel772  :  0\n",
      "pixel773  :  0\n",
      "pixel774  :  0\n",
      "pixel775  :  0\n",
      "pixel776  :  0\n",
      "pixel777  :  0\n",
      "pixel778  :  0\n",
      "pixel779  :  0\n",
      "pixel780  :  0\n",
      "pixel781  :  0\n",
      "pixel782  :  0\n",
      "pixel783  :  0\n"
     ]
    }
   ],
   "source": [
    "for column in test_data.columns:\n",
    "    print(column, \" : \",test_data[column].isnull().sum())"
   ]
  },
  {
   "cell_type": "code",
   "execution_count": 53,
   "id": "1820ad53",
   "metadata": {},
   "outputs": [],
   "source": [
    "sgd_clf = sgd_clf.fit( X_train_scaled, y_train)"
   ]
  },
  {
   "cell_type": "code",
   "execution_count": 54,
   "id": "30c8dc0c",
   "metadata": {},
   "outputs": [
    {
     "name": "stderr",
     "output_type": "stream",
     "text": [
      "C:\\Users\\USER\\AppData\\Local\\Packages\\PythonSoftwareFoundation.Python.3.10_qbz5n2kfra8p0\\LocalCache\\local-packages\\Python310\\site-packages\\sklearn\\base.py:457: UserWarning: X has feature names, but SGDClassifier was fitted without feature names\n",
      "  warnings.warn(\n"
     ]
    }
   ],
   "source": [
    "s_predictions = sgd_clf.predict(test_data)"
   ]
  },
  {
   "cell_type": "code",
   "execution_count": 55,
   "id": "0ab1d92d",
   "metadata": {},
   "outputs": [
    {
     "data": {
      "text/plain": [
       "array([2, 0, 9, ..., 3, 9, 2], dtype=uint8)"
      ]
     },
     "execution_count": 55,
     "metadata": {},
     "output_type": "execute_result"
    }
   ],
   "source": [
    "s_predictions"
   ]
  },
  {
   "cell_type": "code",
   "execution_count": 59,
   "id": "73a272d3",
   "metadata": {},
   "outputs": [
    {
     "name": "stdout",
     "output_type": "stream",
     "text": [
      "[9]\n",
      "4\n"
     ]
    },
    {
     "ename": "KeyError",
     "evalue": "2",
     "output_type": "error",
     "traceback": [
      "\u001b[1;31m---------------------------------------------------------------------------\u001b[0m",
      "\u001b[1;31mKeyError\u001b[0m                                  Traceback (most recent call last)",
      "File \u001b[1;32m~\\AppData\\Local\\Packages\\PythonSoftwareFoundation.Python.3.10_qbz5n2kfra8p0\\LocalCache\\local-packages\\Python310\\site-packages\\pandas\\core\\indexes\\base.py:3653\u001b[0m, in \u001b[0;36mIndex.get_loc\u001b[1;34m(self, key)\u001b[0m\n\u001b[0;32m   3652\u001b[0m \u001b[38;5;28;01mtry\u001b[39;00m:\n\u001b[1;32m-> 3653\u001b[0m     \u001b[38;5;28;01mreturn\u001b[39;00m \u001b[38;5;28;43mself\u001b[39;49m\u001b[38;5;241;43m.\u001b[39;49m\u001b[43m_engine\u001b[49m\u001b[38;5;241;43m.\u001b[39;49m\u001b[43mget_loc\u001b[49m\u001b[43m(\u001b[49m\u001b[43mcasted_key\u001b[49m\u001b[43m)\u001b[49m\n\u001b[0;32m   3654\u001b[0m \u001b[38;5;28;01mexcept\u001b[39;00m \u001b[38;5;167;01mKeyError\u001b[39;00m \u001b[38;5;28;01mas\u001b[39;00m err:\n",
      "File \u001b[1;32m~\\AppData\\Local\\Packages\\PythonSoftwareFoundation.Python.3.10_qbz5n2kfra8p0\\LocalCache\\local-packages\\Python310\\site-packages\\pandas\\_libs\\index.pyx:147\u001b[0m, in \u001b[0;36mpandas._libs.index.IndexEngine.get_loc\u001b[1;34m()\u001b[0m\n",
      "File \u001b[1;32m~\\AppData\\Local\\Packages\\PythonSoftwareFoundation.Python.3.10_qbz5n2kfra8p0\\LocalCache\\local-packages\\Python310\\site-packages\\pandas\\_libs\\index.pyx:176\u001b[0m, in \u001b[0;36mpandas._libs.index.IndexEngine.get_loc\u001b[1;34m()\u001b[0m\n",
      "File \u001b[1;32mpandas\\_libs\\hashtable_class_helper.pxi:7080\u001b[0m, in \u001b[0;36mpandas._libs.hashtable.PyObjectHashTable.get_item\u001b[1;34m()\u001b[0m\n",
      "File \u001b[1;32mpandas\\_libs\\hashtable_class_helper.pxi:7088\u001b[0m, in \u001b[0;36mpandas._libs.hashtable.PyObjectHashTable.get_item\u001b[1;34m()\u001b[0m\n",
      "\u001b[1;31mKeyError\u001b[0m: 2",
      "\nThe above exception was the direct cause of the following exception:\n",
      "\u001b[1;31mKeyError\u001b[0m                                  Traceback (most recent call last)",
      "Cell \u001b[1;32mIn[59], line 5\u001b[0m\n\u001b[0;32m      3\u001b[0m pred \u001b[38;5;241m=\u001b[39m sgd_clf\u001b[38;5;241m.\u001b[39mpredict([some_data])\n\u001b[0;32m      4\u001b[0m \u001b[38;5;28mprint\u001b[39m(pred)\n\u001b[1;32m----> 5\u001b[0m \u001b[43mimage_plotter\u001b[49m\u001b[43m(\u001b[49m\u001b[43mn\u001b[49m\u001b[43m,\u001b[49m\u001b[43m \u001b[49m\u001b[43mtest_data\u001b[49m\u001b[43m)\u001b[49m\n",
      "Cell \u001b[1;32mIn[4], line 5\u001b[0m, in \u001b[0;36mimage_plotter\u001b[1;34m(n, dataframe)\u001b[0m\n\u001b[0;32m      3\u001b[0m \u001b[38;5;28;01mdef\u001b[39;00m \u001b[38;5;21mimage_plotter\u001b[39m(n, dataframe):\n\u001b[0;32m      4\u001b[0m     \u001b[38;5;28mprint\u001b[39m(y[n])\n\u001b[1;32m----> 5\u001b[0m     some_digit \u001b[38;5;241m=\u001b[39m \u001b[43mdataframe\u001b[49m\u001b[43m[\u001b[49m\u001b[43mn\u001b[49m\u001b[43m]\u001b[49m\n\u001b[0;32m      6\u001b[0m     some_digit_image \u001b[38;5;241m=\u001b[39m np\u001b[38;5;241m.\u001b[39marray(some_digit)\u001b[38;5;241m.\u001b[39mreshape(\u001b[38;5;241m28\u001b[39m, \u001b[38;5;241m28\u001b[39m)\n\u001b[0;32m      7\u001b[0m     plt\u001b[38;5;241m.\u001b[39mimshow(some_digit_image, cmap \u001b[38;5;241m=\u001b[39m mpl\u001b[38;5;241m.\u001b[39mcm\u001b[38;5;241m.\u001b[39mbinary, interpolation\u001b[38;5;241m=\u001b[39m\u001b[38;5;124m\"\u001b[39m\u001b[38;5;124mnearest\u001b[39m\u001b[38;5;124m\"\u001b[39m)\n",
      "File \u001b[1;32m~\\AppData\\Local\\Packages\\PythonSoftwareFoundation.Python.3.10_qbz5n2kfra8p0\\LocalCache\\local-packages\\Python310\\site-packages\\pandas\\core\\frame.py:3761\u001b[0m, in \u001b[0;36mDataFrame.__getitem__\u001b[1;34m(self, key)\u001b[0m\n\u001b[0;32m   3759\u001b[0m \u001b[38;5;28;01mif\u001b[39;00m \u001b[38;5;28mself\u001b[39m\u001b[38;5;241m.\u001b[39mcolumns\u001b[38;5;241m.\u001b[39mnlevels \u001b[38;5;241m>\u001b[39m \u001b[38;5;241m1\u001b[39m:\n\u001b[0;32m   3760\u001b[0m     \u001b[38;5;28;01mreturn\u001b[39;00m \u001b[38;5;28mself\u001b[39m\u001b[38;5;241m.\u001b[39m_getitem_multilevel(key)\n\u001b[1;32m-> 3761\u001b[0m indexer \u001b[38;5;241m=\u001b[39m \u001b[38;5;28;43mself\u001b[39;49m\u001b[38;5;241;43m.\u001b[39;49m\u001b[43mcolumns\u001b[49m\u001b[38;5;241;43m.\u001b[39;49m\u001b[43mget_loc\u001b[49m\u001b[43m(\u001b[49m\u001b[43mkey\u001b[49m\u001b[43m)\u001b[49m\n\u001b[0;32m   3762\u001b[0m \u001b[38;5;28;01mif\u001b[39;00m is_integer(indexer):\n\u001b[0;32m   3763\u001b[0m     indexer \u001b[38;5;241m=\u001b[39m [indexer]\n",
      "File \u001b[1;32m~\\AppData\\Local\\Packages\\PythonSoftwareFoundation.Python.3.10_qbz5n2kfra8p0\\LocalCache\\local-packages\\Python310\\site-packages\\pandas\\core\\indexes\\base.py:3655\u001b[0m, in \u001b[0;36mIndex.get_loc\u001b[1;34m(self, key)\u001b[0m\n\u001b[0;32m   3653\u001b[0m     \u001b[38;5;28;01mreturn\u001b[39;00m \u001b[38;5;28mself\u001b[39m\u001b[38;5;241m.\u001b[39m_engine\u001b[38;5;241m.\u001b[39mget_loc(casted_key)\n\u001b[0;32m   3654\u001b[0m \u001b[38;5;28;01mexcept\u001b[39;00m \u001b[38;5;167;01mKeyError\u001b[39;00m \u001b[38;5;28;01mas\u001b[39;00m err:\n\u001b[1;32m-> 3655\u001b[0m     \u001b[38;5;28;01mraise\u001b[39;00m \u001b[38;5;167;01mKeyError\u001b[39;00m(key) \u001b[38;5;28;01mfrom\u001b[39;00m \u001b[38;5;21;01merr\u001b[39;00m\n\u001b[0;32m   3656\u001b[0m \u001b[38;5;28;01mexcept\u001b[39;00m \u001b[38;5;167;01mTypeError\u001b[39;00m:\n\u001b[0;32m   3657\u001b[0m     \u001b[38;5;66;03m# If we have a listlike key, _check_indexing_error will raise\u001b[39;00m\n\u001b[0;32m   3658\u001b[0m     \u001b[38;5;66;03m#  InvalidIndexError. Otherwise we fall through and re-raise\u001b[39;00m\n\u001b[0;32m   3659\u001b[0m     \u001b[38;5;66;03m#  the TypeError.\u001b[39;00m\n\u001b[0;32m   3660\u001b[0m     \u001b[38;5;28mself\u001b[39m\u001b[38;5;241m.\u001b[39m_check_indexing_error(key)\n",
      "\u001b[1;31mKeyError\u001b[0m: 2"
     ]
    }
   ],
   "source": [
    "n = 2\n",
    "some_data = test_data.loc[n]\n",
    "pred = sgd_clf.predict([some_data])\n",
    "print(pred)\n",
    "image_plotter(n, test_data)"
   ]
  },
  {
   "cell_type": "code",
   "execution_count": 87,
   "id": "09a0adc0",
   "metadata": {},
   "outputs": [],
   "source": [
    "df = pd.DataFrame({'ImageId': np.arange(1,len(s_predictions)+1, 1), 'Label': s_predictions})\n",
    "# Save the DataFrame to a CSV file with headers\n",
    "df.to_csv('digits_Submission.csv', index=False)"
   ]
  },
  {
   "cell_type": "code",
   "execution_count": 80,
   "id": "251a9e03",
   "metadata": {},
   "outputs": [
    {
     "data": {
      "text/plain": [
       "5"
      ]
     },
     "execution_count": 80,
     "metadata": {},
     "output_type": "execute_result"
    }
   ],
   "source": [
    "y[0]"
   ]
  },
  {
   "cell_type": "code",
   "execution_count": 81,
   "id": "c810dc42",
   "metadata": {},
   "outputs": [],
   "source": [
    "X_train_scaled = scaler.fit_transform(X.astype(np.float64))"
   ]
  },
  {
   "cell_type": "code",
   "execution_count": 82,
   "id": "3676d134",
   "metadata": {},
   "outputs": [],
   "source": [
    "sgd_clf = sgd_clf.fit( X, y)"
   ]
  },
  {
   "cell_type": "code",
   "execution_count": 86,
   "id": "eab9c730",
   "metadata": {},
   "outputs": [],
   "source": [
    "s_predictions = sgd_clf.predict(test_data.to_numpy())"
   ]
  },
  {
   "cell_type": "code",
   "execution_count": 85,
   "id": "fe7d01b0",
   "metadata": {},
   "outputs": [
    {
     "data": {
      "text/plain": [
       "(70000, 784)"
      ]
     },
     "execution_count": 85,
     "metadata": {},
     "output_type": "execute_result"
    }
   ],
   "source": [
    "X.shape"
   ]
  },
  {
   "cell_type": "code",
   "execution_count": null,
   "id": "710e3f3c",
   "metadata": {},
   "outputs": [],
   "source": []
  }
 ],
 "metadata": {
  "kernelspec": {
   "display_name": "Python 3 (ipykernel)",
   "language": "python",
   "name": "python3"
  },
  "language_info": {
   "codemirror_mode": {
    "name": "ipython",
    "version": 3
   },
   "file_extension": ".py",
   "mimetype": "text/x-python",
   "name": "python",
   "nbconvert_exporter": "python",
   "pygments_lexer": "ipython3",
   "version": "3.10.11"
  }
 },
 "nbformat": 4,
 "nbformat_minor": 5
}
